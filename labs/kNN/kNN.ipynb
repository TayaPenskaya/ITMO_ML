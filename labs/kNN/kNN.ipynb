{
 "cells": [
  {
   "cell_type": "code",
   "execution_count": 1,
   "metadata": {},
   "outputs": [],
   "source": [
    "import pandas as pd\n",
    "import numpy as np\n",
    "from math import pi,e,cos\n",
    "from tqdm import tqdm\n",
    "from matplotlib import pyplot as plt"
   ]
  },
  {
   "cell_type": "code",
   "execution_count": 2,
   "metadata": {},
   "outputs": [],
   "source": [
    "pd.set_option('display.max_columns', None)"
   ]
  },
  {
   "cell_type": "markdown",
   "metadata": {},
   "source": [
    "## Preparing data"
   ]
  },
  {
   "cell_type": "code",
   "execution_count": 3,
   "metadata": {},
   "outputs": [],
   "source": [
    "data = pd.read_csv('wine.csv')\n",
    "data.dropna(inplace = True)\n",
    "# data.drop_duplicates(ignore_index = True, inplace = True)"
   ]
  },
  {
   "cell_type": "code",
   "execution_count": 4,
   "metadata": {},
   "outputs": [
    {
     "data": {
      "text/html": [
       "<div>\n",
       "<style scoped>\n",
       "    .dataframe tbody tr th:only-of-type {\n",
       "        vertical-align: middle;\n",
       "    }\n",
       "\n",
       "    .dataframe tbody tr th {\n",
       "        vertical-align: top;\n",
       "    }\n",
       "\n",
       "    .dataframe thead th {\n",
       "        text-align: right;\n",
       "    }\n",
       "</style>\n",
       "<table border=\"1\" class=\"dataframe\">\n",
       "  <thead>\n",
       "    <tr style=\"text-align: right;\">\n",
       "      <th></th>\n",
       "      <th>class</th>\n",
       "      <th>Alcohol</th>\n",
       "      <th>Malic_acid</th>\n",
       "      <th>Ash</th>\n",
       "      <th>Alcalinity_of_ash</th>\n",
       "      <th>Magnesium</th>\n",
       "      <th>Total_phenols</th>\n",
       "      <th>Flavanoids</th>\n",
       "      <th>Nonflavanoid_phenols</th>\n",
       "      <th>Proanthocyanins</th>\n",
       "      <th>Color_intensity</th>\n",
       "      <th>Hue</th>\n",
       "      <th>OD280%2FOD315_of_diluted_wines</th>\n",
       "      <th>Proline</th>\n",
       "    </tr>\n",
       "  </thead>\n",
       "  <tbody>\n",
       "    <tr>\n",
       "      <th>0</th>\n",
       "      <td>1</td>\n",
       "      <td>14.23</td>\n",
       "      <td>1.71</td>\n",
       "      <td>2.43</td>\n",
       "      <td>15.6</td>\n",
       "      <td>127</td>\n",
       "      <td>2.80</td>\n",
       "      <td>3.06</td>\n",
       "      <td>0.28</td>\n",
       "      <td>2.29</td>\n",
       "      <td>5.64</td>\n",
       "      <td>1.04</td>\n",
       "      <td>3.92</td>\n",
       "      <td>1065</td>\n",
       "    </tr>\n",
       "    <tr>\n",
       "      <th>1</th>\n",
       "      <td>1</td>\n",
       "      <td>13.20</td>\n",
       "      <td>1.78</td>\n",
       "      <td>2.14</td>\n",
       "      <td>11.2</td>\n",
       "      <td>100</td>\n",
       "      <td>2.65</td>\n",
       "      <td>2.76</td>\n",
       "      <td>0.26</td>\n",
       "      <td>1.28</td>\n",
       "      <td>4.38</td>\n",
       "      <td>1.05</td>\n",
       "      <td>3.40</td>\n",
       "      <td>1050</td>\n",
       "    </tr>\n",
       "    <tr>\n",
       "      <th>2</th>\n",
       "      <td>1</td>\n",
       "      <td>13.16</td>\n",
       "      <td>2.36</td>\n",
       "      <td>2.67</td>\n",
       "      <td>18.6</td>\n",
       "      <td>101</td>\n",
       "      <td>2.80</td>\n",
       "      <td>3.24</td>\n",
       "      <td>0.30</td>\n",
       "      <td>2.81</td>\n",
       "      <td>5.68</td>\n",
       "      <td>1.03</td>\n",
       "      <td>3.17</td>\n",
       "      <td>1185</td>\n",
       "    </tr>\n",
       "    <tr>\n",
       "      <th>3</th>\n",
       "      <td>1</td>\n",
       "      <td>14.37</td>\n",
       "      <td>1.95</td>\n",
       "      <td>2.50</td>\n",
       "      <td>16.8</td>\n",
       "      <td>113</td>\n",
       "      <td>3.85</td>\n",
       "      <td>3.49</td>\n",
       "      <td>0.24</td>\n",
       "      <td>2.18</td>\n",
       "      <td>7.80</td>\n",
       "      <td>0.86</td>\n",
       "      <td>3.45</td>\n",
       "      <td>1480</td>\n",
       "    </tr>\n",
       "    <tr>\n",
       "      <th>4</th>\n",
       "      <td>1</td>\n",
       "      <td>13.24</td>\n",
       "      <td>2.59</td>\n",
       "      <td>2.87</td>\n",
       "      <td>21.0</td>\n",
       "      <td>118</td>\n",
       "      <td>2.80</td>\n",
       "      <td>2.69</td>\n",
       "      <td>0.39</td>\n",
       "      <td>1.82</td>\n",
       "      <td>4.32</td>\n",
       "      <td>1.04</td>\n",
       "      <td>2.93</td>\n",
       "      <td>735</td>\n",
       "    </tr>\n",
       "  </tbody>\n",
       "</table>\n",
       "</div>"
      ],
      "text/plain": [
       "   class  Alcohol  Malic_acid   Ash  Alcalinity_of_ash  Magnesium  \\\n",
       "0      1    14.23        1.71  2.43               15.6        127   \n",
       "1      1    13.20        1.78  2.14               11.2        100   \n",
       "2      1    13.16        2.36  2.67               18.6        101   \n",
       "3      1    14.37        1.95  2.50               16.8        113   \n",
       "4      1    13.24        2.59  2.87               21.0        118   \n",
       "\n",
       "   Total_phenols  Flavanoids  Nonflavanoid_phenols  Proanthocyanins  \\\n",
       "0           2.80        3.06                  0.28             2.29   \n",
       "1           2.65        2.76                  0.26             1.28   \n",
       "2           2.80        3.24                  0.30             2.81   \n",
       "3           3.85        3.49                  0.24             2.18   \n",
       "4           2.80        2.69                  0.39             1.82   \n",
       "\n",
       "   Color_intensity   Hue  OD280%2FOD315_of_diluted_wines  Proline  \n",
       "0             5.64  1.04                            3.92     1065  \n",
       "1             4.38  1.05                            3.40     1050  \n",
       "2             5.68  1.03                            3.17     1185  \n",
       "3             7.80  0.86                            3.45     1480  \n",
       "4             4.32  1.04                            2.93      735  "
      ]
     },
     "metadata": {},
     "output_type": "display_data"
    }
   ],
   "source": [
    "display(data[:5])"
   ]
  },
  {
   "cell_type": "code",
   "execution_count": 5,
   "metadata": {},
   "outputs": [],
   "source": [
    "cols = list(data)\n",
    "cols.remove('class')\n",
    "cols.append('class')"
   ]
  },
  {
   "cell_type": "code",
   "execution_count": 6,
   "metadata": {},
   "outputs": [],
   "source": [
    "data = data.loc[:, cols]"
   ]
  },
  {
   "cell_type": "code",
   "execution_count": 7,
   "metadata": {},
   "outputs": [
    {
     "data": {
      "text/html": [
       "<div>\n",
       "<style scoped>\n",
       "    .dataframe tbody tr th:only-of-type {\n",
       "        vertical-align: middle;\n",
       "    }\n",
       "\n",
       "    .dataframe tbody tr th {\n",
       "        vertical-align: top;\n",
       "    }\n",
       "\n",
       "    .dataframe thead th {\n",
       "        text-align: right;\n",
       "    }\n",
       "</style>\n",
       "<table border=\"1\" class=\"dataframe\">\n",
       "  <thead>\n",
       "    <tr style=\"text-align: right;\">\n",
       "      <th></th>\n",
       "      <th>Alcohol</th>\n",
       "      <th>Malic_acid</th>\n",
       "      <th>Ash</th>\n",
       "      <th>Alcalinity_of_ash</th>\n",
       "      <th>Magnesium</th>\n",
       "      <th>Total_phenols</th>\n",
       "      <th>Flavanoids</th>\n",
       "      <th>Nonflavanoid_phenols</th>\n",
       "      <th>Proanthocyanins</th>\n",
       "      <th>Color_intensity</th>\n",
       "      <th>Hue</th>\n",
       "      <th>OD280%2FOD315_of_diluted_wines</th>\n",
       "      <th>Proline</th>\n",
       "      <th>class</th>\n",
       "    </tr>\n",
       "  </thead>\n",
       "  <tbody>\n",
       "    <tr>\n",
       "      <th>0</th>\n",
       "      <td>14.23</td>\n",
       "      <td>1.71</td>\n",
       "      <td>2.43</td>\n",
       "      <td>15.6</td>\n",
       "      <td>127</td>\n",
       "      <td>2.80</td>\n",
       "      <td>3.06</td>\n",
       "      <td>0.28</td>\n",
       "      <td>2.29</td>\n",
       "      <td>5.64</td>\n",
       "      <td>1.04</td>\n",
       "      <td>3.92</td>\n",
       "      <td>1065</td>\n",
       "      <td>1</td>\n",
       "    </tr>\n",
       "    <tr>\n",
       "      <th>1</th>\n",
       "      <td>13.20</td>\n",
       "      <td>1.78</td>\n",
       "      <td>2.14</td>\n",
       "      <td>11.2</td>\n",
       "      <td>100</td>\n",
       "      <td>2.65</td>\n",
       "      <td>2.76</td>\n",
       "      <td>0.26</td>\n",
       "      <td>1.28</td>\n",
       "      <td>4.38</td>\n",
       "      <td>1.05</td>\n",
       "      <td>3.40</td>\n",
       "      <td>1050</td>\n",
       "      <td>1</td>\n",
       "    </tr>\n",
       "    <tr>\n",
       "      <th>2</th>\n",
       "      <td>13.16</td>\n",
       "      <td>2.36</td>\n",
       "      <td>2.67</td>\n",
       "      <td>18.6</td>\n",
       "      <td>101</td>\n",
       "      <td>2.80</td>\n",
       "      <td>3.24</td>\n",
       "      <td>0.30</td>\n",
       "      <td>2.81</td>\n",
       "      <td>5.68</td>\n",
       "      <td>1.03</td>\n",
       "      <td>3.17</td>\n",
       "      <td>1185</td>\n",
       "      <td>1</td>\n",
       "    </tr>\n",
       "    <tr>\n",
       "      <th>3</th>\n",
       "      <td>14.37</td>\n",
       "      <td>1.95</td>\n",
       "      <td>2.50</td>\n",
       "      <td>16.8</td>\n",
       "      <td>113</td>\n",
       "      <td>3.85</td>\n",
       "      <td>3.49</td>\n",
       "      <td>0.24</td>\n",
       "      <td>2.18</td>\n",
       "      <td>7.80</td>\n",
       "      <td>0.86</td>\n",
       "      <td>3.45</td>\n",
       "      <td>1480</td>\n",
       "      <td>1</td>\n",
       "    </tr>\n",
       "    <tr>\n",
       "      <th>4</th>\n",
       "      <td>13.24</td>\n",
       "      <td>2.59</td>\n",
       "      <td>2.87</td>\n",
       "      <td>21.0</td>\n",
       "      <td>118</td>\n",
       "      <td>2.80</td>\n",
       "      <td>2.69</td>\n",
       "      <td>0.39</td>\n",
       "      <td>1.82</td>\n",
       "      <td>4.32</td>\n",
       "      <td>1.04</td>\n",
       "      <td>2.93</td>\n",
       "      <td>735</td>\n",
       "      <td>1</td>\n",
       "    </tr>\n",
       "  </tbody>\n",
       "</table>\n",
       "</div>"
      ],
      "text/plain": [
       "   Alcohol  Malic_acid   Ash  Alcalinity_of_ash  Magnesium  Total_phenols  \\\n",
       "0    14.23        1.71  2.43               15.6        127           2.80   \n",
       "1    13.20        1.78  2.14               11.2        100           2.65   \n",
       "2    13.16        2.36  2.67               18.6        101           2.80   \n",
       "3    14.37        1.95  2.50               16.8        113           3.85   \n",
       "4    13.24        2.59  2.87               21.0        118           2.80   \n",
       "\n",
       "   Flavanoids  Nonflavanoid_phenols  Proanthocyanins  Color_intensity   Hue  \\\n",
       "0        3.06                  0.28             2.29             5.64  1.04   \n",
       "1        2.76                  0.26             1.28             4.38  1.05   \n",
       "2        3.24                  0.30             2.81             5.68  1.03   \n",
       "3        3.49                  0.24             2.18             7.80  0.86   \n",
       "4        2.69                  0.39             1.82             4.32  1.04   \n",
       "\n",
       "   OD280%2FOD315_of_diluted_wines  Proline  class  \n",
       "0                            3.92     1065      1  \n",
       "1                            3.40     1050      1  \n",
       "2                            3.17     1185      1  \n",
       "3                            3.45     1480      1  \n",
       "4                            2.93      735      1  "
      ]
     },
     "metadata": {},
     "output_type": "display_data"
    }
   ],
   "source": [
    "display(data[:5])"
   ]
  },
  {
   "cell_type": "markdown",
   "metadata": {},
   "source": [
    "### Normalizing"
   ]
  },
  {
   "cell_type": "code",
   "execution_count": 8,
   "metadata": {},
   "outputs": [],
   "source": [
    "def min_max_normalization(column):\n",
    "    max_value = column.max()\n",
    "    min_value = column.min()\n",
    "    return column.apply(lambda x: (x - min_value) / (max_value - min_value))"
   ]
  },
  {
   "cell_type": "code",
   "execution_count": 9,
   "metadata": {},
   "outputs": [],
   "source": [
    "features = data.iloc[:,0:len(data.columns)-1]\n",
    "for column in features.columns:\n",
    "    data[column] = min_max_normalization(data[column])"
   ]
  },
  {
   "cell_type": "code",
   "execution_count": 10,
   "metadata": {},
   "outputs": [
    {
     "data": {
      "text/html": [
       "<div>\n",
       "<style scoped>\n",
       "    .dataframe tbody tr th:only-of-type {\n",
       "        vertical-align: middle;\n",
       "    }\n",
       "\n",
       "    .dataframe tbody tr th {\n",
       "        vertical-align: top;\n",
       "    }\n",
       "\n",
       "    .dataframe thead th {\n",
       "        text-align: right;\n",
       "    }\n",
       "</style>\n",
       "<table border=\"1\" class=\"dataframe\">\n",
       "  <thead>\n",
       "    <tr style=\"text-align: right;\">\n",
       "      <th></th>\n",
       "      <th>Alcohol</th>\n",
       "      <th>Malic_acid</th>\n",
       "      <th>Ash</th>\n",
       "      <th>Alcalinity_of_ash</th>\n",
       "      <th>Magnesium</th>\n",
       "      <th>Total_phenols</th>\n",
       "      <th>Flavanoids</th>\n",
       "      <th>Nonflavanoid_phenols</th>\n",
       "      <th>Proanthocyanins</th>\n",
       "      <th>Color_intensity</th>\n",
       "      <th>Hue</th>\n",
       "      <th>OD280%2FOD315_of_diluted_wines</th>\n",
       "      <th>Proline</th>\n",
       "      <th>class</th>\n",
       "    </tr>\n",
       "  </thead>\n",
       "  <tbody>\n",
       "    <tr>\n",
       "      <th>0</th>\n",
       "      <td>0.842105</td>\n",
       "      <td>0.191700</td>\n",
       "      <td>0.572193</td>\n",
       "      <td>0.257732</td>\n",
       "      <td>0.619565</td>\n",
       "      <td>0.627586</td>\n",
       "      <td>0.573840</td>\n",
       "      <td>0.283019</td>\n",
       "      <td>0.593060</td>\n",
       "      <td>0.372014</td>\n",
       "      <td>0.455285</td>\n",
       "      <td>0.970696</td>\n",
       "      <td>0.561341</td>\n",
       "      <td>1</td>\n",
       "    </tr>\n",
       "    <tr>\n",
       "      <th>1</th>\n",
       "      <td>0.571053</td>\n",
       "      <td>0.205534</td>\n",
       "      <td>0.417112</td>\n",
       "      <td>0.030928</td>\n",
       "      <td>0.326087</td>\n",
       "      <td>0.575862</td>\n",
       "      <td>0.510549</td>\n",
       "      <td>0.245283</td>\n",
       "      <td>0.274448</td>\n",
       "      <td>0.264505</td>\n",
       "      <td>0.463415</td>\n",
       "      <td>0.780220</td>\n",
       "      <td>0.550642</td>\n",
       "      <td>1</td>\n",
       "    </tr>\n",
       "    <tr>\n",
       "      <th>2</th>\n",
       "      <td>0.560526</td>\n",
       "      <td>0.320158</td>\n",
       "      <td>0.700535</td>\n",
       "      <td>0.412371</td>\n",
       "      <td>0.336957</td>\n",
       "      <td>0.627586</td>\n",
       "      <td>0.611814</td>\n",
       "      <td>0.320755</td>\n",
       "      <td>0.757098</td>\n",
       "      <td>0.375427</td>\n",
       "      <td>0.447154</td>\n",
       "      <td>0.695971</td>\n",
       "      <td>0.646933</td>\n",
       "      <td>1</td>\n",
       "    </tr>\n",
       "    <tr>\n",
       "      <th>3</th>\n",
       "      <td>0.878947</td>\n",
       "      <td>0.239130</td>\n",
       "      <td>0.609626</td>\n",
       "      <td>0.319588</td>\n",
       "      <td>0.467391</td>\n",
       "      <td>0.989655</td>\n",
       "      <td>0.664557</td>\n",
       "      <td>0.207547</td>\n",
       "      <td>0.558360</td>\n",
       "      <td>0.556314</td>\n",
       "      <td>0.308943</td>\n",
       "      <td>0.798535</td>\n",
       "      <td>0.857347</td>\n",
       "      <td>1</td>\n",
       "    </tr>\n",
       "    <tr>\n",
       "      <th>4</th>\n",
       "      <td>0.581579</td>\n",
       "      <td>0.365613</td>\n",
       "      <td>0.807487</td>\n",
       "      <td>0.536082</td>\n",
       "      <td>0.521739</td>\n",
       "      <td>0.627586</td>\n",
       "      <td>0.495781</td>\n",
       "      <td>0.490566</td>\n",
       "      <td>0.444795</td>\n",
       "      <td>0.259386</td>\n",
       "      <td>0.455285</td>\n",
       "      <td>0.608059</td>\n",
       "      <td>0.325963</td>\n",
       "      <td>1</td>\n",
       "    </tr>\n",
       "  </tbody>\n",
       "</table>\n",
       "</div>"
      ],
      "text/plain": [
       "    Alcohol  Malic_acid       Ash  Alcalinity_of_ash  Magnesium  \\\n",
       "0  0.842105    0.191700  0.572193           0.257732   0.619565   \n",
       "1  0.571053    0.205534  0.417112           0.030928   0.326087   \n",
       "2  0.560526    0.320158  0.700535           0.412371   0.336957   \n",
       "3  0.878947    0.239130  0.609626           0.319588   0.467391   \n",
       "4  0.581579    0.365613  0.807487           0.536082   0.521739   \n",
       "\n",
       "   Total_phenols  Flavanoids  Nonflavanoid_phenols  Proanthocyanins  \\\n",
       "0       0.627586    0.573840              0.283019         0.593060   \n",
       "1       0.575862    0.510549              0.245283         0.274448   \n",
       "2       0.627586    0.611814              0.320755         0.757098   \n",
       "3       0.989655    0.664557              0.207547         0.558360   \n",
       "4       0.627586    0.495781              0.490566         0.444795   \n",
       "\n",
       "   Color_intensity       Hue  OD280%2FOD315_of_diluted_wines   Proline  class  \n",
       "0         0.372014  0.455285                        0.970696  0.561341      1  \n",
       "1         0.264505  0.463415                        0.780220  0.550642      1  \n",
       "2         0.375427  0.447154                        0.695971  0.646933      1  \n",
       "3         0.556314  0.308943                        0.798535  0.857347      1  \n",
       "4         0.259386  0.455285                        0.608059  0.325963      1  "
      ]
     },
     "execution_count": 10,
     "metadata": {},
     "output_type": "execute_result"
    }
   ],
   "source": [
    "data[:5]"
   ]
  },
  {
   "cell_type": "markdown",
   "metadata": {},
   "source": [
    "## Algo"
   ]
  },
  {
   "cell_type": "markdown",
   "metadata": {},
   "source": [
    "### Distance functions"
   ]
  },
  {
   "cell_type": "code",
   "execution_count": 11,
   "metadata": {},
   "outputs": [],
   "source": [
    "def euclidean(M, x, y):\n",
    "    \"\"\"\n",
    "    Args:\n",
    "        M: Number of features.\n",
    "        x: Feature vector of first element.\n",
    "        y: Feature vector of second element.\n",
    "    \"\"\"\n",
    "    dist = 0\n",
    "    for i in range(M):\n",
    "        dist += (x[i] - y[i]) ** 2\n",
    "    return dist ** (1/2)"
   ]
  },
  {
   "cell_type": "code",
   "execution_count": 12,
   "metadata": {},
   "outputs": [],
   "source": [
    "def manhattan(M, x, y):\n",
    "    dist = 0\n",
    "    for i in range(M):\n",
    "        dist += abs(x[i] - y[i])\n",
    "    return dist"
   ]
  },
  {
   "cell_type": "code",
   "execution_count": 13,
   "metadata": {},
   "outputs": [],
   "source": [
    "def chebyshev(M, x, y):\n",
    "    max_dist = 0\n",
    "    for i in range(M):\n",
    "        cur_dist = abs(x[i] - y[i])\n",
    "        if (max_dist < cur_dist):\n",
    "            max_dist = cur_dist\n",
    "    return max_dist"
   ]
  },
  {
   "cell_type": "code",
   "execution_count": 14,
   "metadata": {},
   "outputs": [],
   "source": [
    "def get_distance_by_name(name):\n",
    "    if (name == 'euclidean'):\n",
    "        return euclidean\n",
    "    elif (name == 'manhattan'):\n",
    "        return manhattan\n",
    "    else:\n",
    "        return chebyshev"
   ]
  },
  {
   "cell_type": "markdown",
   "metadata": {},
   "source": [
    "### Kernel functions"
   ]
  },
  {
   "cell_type": "code",
   "execution_count": 15,
   "metadata": {},
   "outputs": [],
   "source": [
    "def uniform(u):\n",
    "    if (abs(u) >= 1):\n",
    "        return 0\n",
    "    return 1/2"
   ]
  },
  {
   "cell_type": "code",
   "execution_count": 16,
   "metadata": {},
   "outputs": [],
   "source": [
    "def triangular(u):\n",
    "    if (abs(u) >= 1):\n",
    "        return 0\n",
    "    return 1 - abs(u)"
   ]
  },
  {
   "cell_type": "code",
   "execution_count": 17,
   "metadata": {},
   "outputs": [],
   "source": [
    "def epanechnikov(u):\n",
    "    if (abs(u) >= 1):\n",
    "        return 0\n",
    "    return 3/4 * (1 - u**2)"
   ]
  },
  {
   "cell_type": "code",
   "execution_count": 18,
   "metadata": {},
   "outputs": [],
   "source": [
    "def quartic(u):\n",
    "    if (abs(u) >= 1):\n",
    "        return 0\n",
    "    return 15/16 * (1 - u**2)**2"
   ]
  },
  {
   "cell_type": "code",
   "execution_count": 19,
   "metadata": {},
   "outputs": [],
   "source": [
    "def triweight(u):\n",
    "    if (abs(u) >= 1):\n",
    "        return 0\n",
    "    return 35/32 * (1 - u**2)**3"
   ]
  },
  {
   "cell_type": "code",
   "execution_count": 20,
   "metadata": {},
   "outputs": [],
   "source": [
    "def tricube(u):\n",
    "    if (abs(u) >= 1):\n",
    "        return 0\n",
    "    return 70/81 * (1 - abs(u)**3)**3"
   ]
  },
  {
   "cell_type": "code",
   "execution_count": 21,
   "metadata": {},
   "outputs": [],
   "source": [
    "def gaussian(u):\n",
    "    return 1/pi**(1/2) * e**(-1/2 * u**2)"
   ]
  },
  {
   "cell_type": "code",
   "execution_count": 22,
   "metadata": {},
   "outputs": [],
   "source": [
    "def cosine(u):\n",
    "    if (abs(u) >= 1):\n",
    "        return 0\n",
    "    return pi/4 * cos(pi/2 * u)"
   ]
  },
  {
   "cell_type": "code",
   "execution_count": 23,
   "metadata": {},
   "outputs": [],
   "source": [
    "def logistic(u):\n",
    "    return 1/(e**u + 2 + e**(-u))"
   ]
  },
  {
   "cell_type": "code",
   "execution_count": 24,
   "metadata": {},
   "outputs": [],
   "source": [
    "def sigmoid(u):\n",
    "    return 2/pi * 1/(e**u + e**(-u))"
   ]
  },
  {
   "cell_type": "code",
   "execution_count": 25,
   "metadata": {},
   "outputs": [],
   "source": [
    "def get_kernel_by_name(name):\n",
    "    if (name == 'uniform'):\n",
    "        return uniform\n",
    "    elif (name == 'triangular'):\n",
    "        return triangular\n",
    "    elif (name == 'epanechnikov'):\n",
    "        return epanechnikov\n",
    "    elif (name == 'quartic'):\n",
    "        return quartic\n",
    "    elif (name == 'triweight'):\n",
    "        return triweight\n",
    "    elif (name == 'tricube'):\n",
    "        return tricube\n",
    "    elif (name == 'gaussian'):\n",
    "        return gaussian\n",
    "    elif (name == 'cosine'):\n",
    "        return cosine\n",
    "    elif (name == 'logistic'):\n",
    "        return logistic\n",
    "    else:\n",
    "        return sigmoid"
   ]
  },
  {
   "cell_type": "markdown",
   "metadata": {},
   "source": [
    "### Parzen window method naively"
   ]
  },
  {
   "cell_type": "code",
   "execution_count": 26,
   "metadata": {},
   "outputs": [],
   "source": [
    "def get_target_of_object(N, M, d, q, distance_name, kernel_name, window_type, h):\n",
    "    \"\"\"\n",
    "    Computes real target value of desired object (q).\n",
    "    \"\"\"\n",
    "    distance = get_distance_by_name(distance_name)\n",
    "    kernel = get_kernel_by_name(kernel_name)\n",
    "    d = sorted(d, key=lambda x: distance(M, x, q))\n",
    "    \n",
    "    target_q = 0\n",
    "    all_target = []\n",
    "    all_weight = []\n",
    "    \n",
    "    if (window_type != 'fixed'):\n",
    "        h = distance(M, d[h-1], q)\n",
    "\n",
    "    if (h == 0):\n",
    "        if (distance(M, d[0], q) == 0):\n",
    "            d_equal = list(filter(lambda x: distance(M, x, q) == 0, d))\n",
    "            target_q = sum(d_equal[i][M] for i in range(len(d_equal))) / len(d_equal)\n",
    "        else:\n",
    "            target_q = sum(d[i][M] for i in range(N)) / N\n",
    "    else:\n",
    "        all_weight = list(map(lambda x: kernel(distance(M, x, q) / h), d))\n",
    "        all_target = list(map(lambda x: kernel(distance(M, x, q) / h) * x[M], d))\n",
    "        target_q = sum(all_target) / sum(all_weight) if (sum(all_weight) != 0) else sum(d[i][M] for i in range(N)) / N\n",
    "    return target_q "
   ]
  },
  {
   "cell_type": "code",
   "execution_count": 27,
   "metadata": {},
   "outputs": [],
   "source": [
    "def get_class_of_object(N, M, d, q, distance_name, kernel_name, window_type, h):\n",
    "    \"\"\"\n",
    "    Find class of object by rounding.\n",
    "    \"\"\"\n",
    "    return round(get_target_of_object(N, M, d, q, distance_name, kernel_name, window_type, h))"
   ]
  },
  {
   "cell_type": "markdown",
   "metadata": {},
   "source": [
    "### OneHot"
   ]
  },
  {
   "cell_type": "code",
   "execution_count": 28,
   "metadata": {},
   "outputs": [],
   "source": [
    "def get_onehot_target_of_object(N, M, d, q, distance_name, kernel_name, window_type, h, clases):\n",
    "    \"\"\"\n",
    "    Computes onehot target value (vector) of desired object (q).\n",
    "    \"\"\"\n",
    "    distance = get_distance_by_name(distance_name)\n",
    "    kernel = get_kernel_by_name(kernel_name)\n",
    "    d = sorted(d, key=lambda x: distance(M, x, q))\n",
    "    CN = len(classes)\n",
    "    \n",
    "    res = [0 for i in range(CN)]\n",
    "    \n",
    "    if (window_type != 'fixed'):\n",
    "        h = distance(M, d[h-1], q)\n",
    "        \n",
    "    if (h == 0):\n",
    "        if (distance(M, d[0], q) == 0):\n",
    "            d_equal = list(filter(lambda x: distance(M, x, q) == 0, d))\n",
    "            for i in range(len(d_equal)):\n",
    "                res[classes.index(d_equal[i][M])] += 1\n",
    "        else:\n",
    "            for i in range(N):\n",
    "                res[classes.index(d[i][M])] += 1\n",
    "    else:\n",
    "        for i in range(N):\n",
    "            res[classes.index(d[i][M])] += kernel(distance(M, d[i], q) / h)\n",
    "\n",
    "    return res"
   ]
  },
  {
   "cell_type": "code",
   "execution_count": 45,
   "metadata": {},
   "outputs": [],
   "source": [
    "def get_onehot_class_of_object(N, M, d, q, distance_name, kernel_name, window_type, h, classes):\n",
    "    \"\"\"\n",
    "    Find class of object by finding max in vector coords.\n",
    "    \"\"\"\n",
    "    res = get_onehot_target_of_object(N, M, d, q, distance_name, kernel_name, window_type, h, classes)\n",
    "    idx_sorted = sorted(range(len(classes)), key=lambda k: res[k])\n",
    "    return classes[idx_sorted[len(classes)-1]]"
   ]
  },
  {
   "cell_type": "markdown",
   "metadata": {},
   "source": [
    "### Confusion matrix with LOO"
   ]
  },
  {
   "cell_type": "code",
   "execution_count": 30,
   "metadata": {},
   "outputs": [],
   "source": [
    "def get_confusion_matrix(N, M, test_data, distance_name, kernel_name, window_type, h, classes, onehot = False):\n",
    "    \"\"\"\n",
    "    Computes confusion matrix by predicting values of class.\n",
    "    \n",
    "    Args:\n",
    "        N: Number of known objects.\n",
    "        M: Number of features of object.\n",
    "        test_data: Dataframe of objects.\n",
    "        distance_name: Distance function name.\n",
    "        kernel_name: Kernel function name.\n",
    "        window_type: Type of window.\n",
    "        h: Radius of window or number of neighbors.\n",
    "        classes: Unique classes of data.\n",
    "        onehot: Use method without/with onehot.\n",
    "    \"\"\"\n",
    "    CN = len(classes)\n",
    "    matrix = [[0 for i in range(CN)] for j in range(CN)]\n",
    "    \n",
    "    for idx in range(N):\n",
    "        q = test_data.iloc[idx]\n",
    "        actual_class = test_data.iloc[idx][M]\n",
    "        train_data = test_data.drop([idx])\n",
    "        \n",
    "        if (onehot):\n",
    "            predicted_class = get_onehot_class_of_object(N-1, M, train_data.values, q, \n",
    "                                                         distance_name, kernel_name, window_type, h, classes)\n",
    "        else:\n",
    "            predicted_class = get_class_of_object(N-1, M, train_data.values, q, \n",
    "                                                  distance_name, kernel_name, window_type, h)\n",
    "        \n",
    "        matrix[classes.index(actual_class)][classes.index(predicted_class)] += 1\n",
    "    return matrix"
   ]
  },
  {
   "cell_type": "markdown",
   "metadata": {},
   "source": [
    "### F1-score"
   ]
  },
  {
   "cell_type": "code",
   "execution_count": 31,
   "metadata": {},
   "outputs": [],
   "source": [
    "def find_f1(precision, recall):\n",
    "    \"\"\"\n",
    "    Computes F1-score of given precision and recall.\n",
    "    \"\"\"\n",
    "    if (precision == 0 and recall == 0):\n",
    "        return 0\n",
    "    return 2 * precision * recall / (precision + recall)"
   ]
  },
  {
   "cell_type": "code",
   "execution_count": 32,
   "metadata": {},
   "outputs": [],
   "source": [
    "def find_weight_sum(N, CM, nonweight_list, all_elem):\n",
    "    \"\"\"\n",
    "    Computes weight sum of nonweight_list multiplying each element \n",
    "    by the ratio of the number of class elements to the number of elements of all classes.\n",
    "    \"\"\"\n",
    "    weight_sum = 0\n",
    "    \n",
    "    for c in range(N):\n",
    "        all_class = 0\n",
    "        for i in range(N):\n",
    "            all_class += CM[c][i]\n",
    "        weight_sum += nonweight_list[c] * all_class / all_elem\n",
    "    return weight_sum"
   ]
  },
  {
   "cell_type": "code",
   "execution_count": 33,
   "metadata": {},
   "outputs": [],
   "source": [
    "def get_macro_micro(N, CM):\n",
    "    \"\"\"\n",
    "    Computes macro F1-score and micro F1-score of given confusion matrix.\n",
    "    \n",
    "    A bit of theory:\n",
    "    \n",
    "    1. Each row of the confusion matrix represents the instances in a predicted class \n",
    "    while each column represents the instances in an actual class.\n",
    "    2. precision = TP / (TP + FP); recall = TP / (TP + FN)\n",
    "    Within the matrix (TP + FP) is real values (column) and (TP + FN) is predicted values (row).\n",
    "    3. micro f1-score is sum of all weight f1-scores\n",
    "    4. macro f1-score is f1-score of sum of all weight precisions and sum of all weight recalls\n",
    "    \n",
    "    Args:\n",
    "        N: Number of classes.\n",
    "        CM: Comfusion matrix.\n",
    "    Returns:\n",
    "        Macro F1-score and micro F1-score.\n",
    "\"\"\"\n",
    "    precision = []\n",
    "    recall = []\n",
    "    f1 = []\n",
    "    all_elem = 0\n",
    "    for c in range(N):\n",
    "        sum_real = sum_predicted = 0\n",
    "        for i in range(N):\n",
    "            sum_real += CM[c][i]\n",
    "            sum_predicted += CM[i][c]\n",
    "        all_elem += sum_real\n",
    "        precision.append(0 if (sum_predicted == 0) else CM[c][c] / sum_predicted)\n",
    "        recall.append(0 if (sum_real == 0) else CM[c][c] / sum_real)\n",
    "        f1.append(find_f1(precision[c], recall[c]))\n",
    "\n",
    "    weight_precision = find_weight_sum(N, CM, precision, all_elem)\n",
    "    weight_recall = find_weight_sum(N, CM, recall, all_elem)\n",
    "    weight_f1 = find_weight_sum(N, CM, f1, all_elem)\n",
    "\n",
    "    micro_f = weight_f1\n",
    "    macro_f = find_f1(weight_precision, weight_recall)\n",
    "    return micro_f"
   ]
  },
  {
   "cell_type": "markdown",
   "metadata": {},
   "source": [
    "## Applying algo"
   ]
  },
  {
   "cell_type": "markdown",
   "metadata": {},
   "source": [
    "### Parameters"
   ]
  },
  {
   "cell_type": "code",
   "execution_count": 34,
   "metadata": {},
   "outputs": [],
   "source": [
    "DIST_NAMES = ['euclidean', 'manhattan', 'chebyshev']\n",
    "KERNEL_NAMES = ['uniform', 'triangular', 'epanechnikov', \n",
    "                'quartic', 'triweight', 'tricube', \n",
    "                'gaussian', 'cosine', 'logistic', 'sigmoid']\n",
    "WINDOW_TYPES = ['fixed', 'variable']"
   ]
  },
  {
   "cell_type": "code",
   "execution_count": 35,
   "metadata": {},
   "outputs": [],
   "source": [
    "dkw = sum(sum([[[(dist, kernel, window) for window in WINDOW_TYPES] \n",
    "                for kernel in KERNEL_NAMES] \n",
    "               for dist in DIST_NAMES], \n",
    "              []), \n",
    "          [])"
   ]
  },
  {
   "cell_type": "markdown",
   "metadata": {},
   "source": [
    "### Finding good params"
   ]
  },
  {
   "cell_type": "code",
   "execution_count": 36,
   "metadata": {},
   "outputs": [],
   "source": [
    "def find_good_params(N, M, test_data, classes, onehot = False):\n",
    "    max_f = -1\n",
    "    good_params = []\n",
    "    CN = len(classes)\n",
    "    for (dist, kernel, window) in tqdm(dkw):\n",
    "        h_range = range(0, N-1, round(N/4)) if (window == 'fixed') else range(1, N-1, round(N/4))\n",
    "        for h in h_range:\n",
    "            matrix = get_confusion_matrix(N, M, test_data, dist, kernel, window, h, classes, onehot)\n",
    "            micro_f = get_macro_micro(CN, matrix)\n",
    "            if (micro_f > max_f):\n",
    "                good_params = []\n",
    "                good_params.append(dist)\n",
    "                good_params.append(kernel)\n",
    "                good_params.append(window)\n",
    "                max_f = micro_f\n",
    "    return good_params, max_f"
   ]
  },
  {
   "cell_type": "code",
   "execution_count": 37,
   "metadata": {},
   "outputs": [],
   "source": [
    "def find_max_score(good_params, N, M, test_data, classes, onehot = False):\n",
    "    (dist, kernel, window) = good_params\n",
    "    lh = []\n",
    "    lf = []\n",
    "    max_h = -1\n",
    "    max_f = -1\n",
    "    CN = len(classes)\n",
    "    for h in tqdm(range(1, N)):\n",
    "        matrix = get_confusion_matrix(N, M, test_data, dist, kernel, window, h, classes, onehot)\n",
    "        micro_f = get_macro_micro(CN, matrix)\n",
    "        lf.append(micro_f)\n",
    "        lh.append(h)\n",
    "        if (micro_f > max_f):\n",
    "            max_f = micro_f\n",
    "            max_h = h\n",
    "    good_params.append(max_h)\n",
    "    return good_params, max_f, lh, lf"
   ]
  },
  {
   "cell_type": "markdown",
   "metadata": {},
   "source": [
    "### Testing"
   ]
  },
  {
   "cell_type": "code",
   "execution_count": 51,
   "metadata": {},
   "outputs": [],
   "source": [
    "test_data = data[:150]\n",
    "N = len(test_data)\n",
    "M = len(test_data.columns) - 1"
   ]
  },
  {
   "cell_type": "code",
   "execution_count": 52,
   "metadata": {},
   "outputs": [],
   "source": [
    "classes = test_data['class'].unique().tolist()\n",
    "classes.sort()"
   ]
  },
  {
   "cell_type": "code",
   "execution_count": 53,
   "metadata": {},
   "outputs": [
    {
     "data": {
      "text/plain": [
       "[1, 2, 3]"
      ]
     },
     "execution_count": 53,
     "metadata": {},
     "output_type": "execute_result"
    }
   ],
   "source": [
    "classes"
   ]
  },
  {
   "cell_type": "markdown",
   "metadata": {},
   "source": [
    "#### Without onehot"
   ]
  },
  {
   "cell_type": "code",
   "execution_count": 54,
   "metadata": {},
   "outputs": [
    {
     "name": "stderr",
     "output_type": "stream",
     "text": [
      "100%|██████████| 60/60 [37:34<00:00, 37.58s/it]\n"
     ]
    }
   ],
   "source": [
    "good_params, max_f = find_good_params(N, M, test_data, classes)"
   ]
  },
  {
   "cell_type": "code",
   "execution_count": 55,
   "metadata": {},
   "outputs": [
    {
     "data": {
      "text/plain": [
       "(['manhattan', 'quartic', 'variable'], 0.9866807405889186)"
      ]
     },
     "execution_count": 55,
     "metadata": {},
     "output_type": "execute_result"
    }
   ],
   "source": [
    "good_params, max_f"
   ]
  },
  {
   "cell_type": "code",
   "execution_count": 56,
   "metadata": {},
   "outputs": [
    {
     "name": "stderr",
     "output_type": "stream",
     "text": [
      "100%|██████████| 149/149 [25:25<00:00, 10.24s/it]\n"
     ]
    }
   ],
   "source": [
    "good_params, max_f, lh, lf = find_max_score(good_params, N, M, test_data, classes)"
   ]
  },
  {
   "cell_type": "code",
   "execution_count": 63,
   "metadata": {},
   "outputs": [
    {
     "data": {
      "image/png": "[encoded data removed]",
      "text/plain": [
       "<Figure size 432x288 with 1 Axes>"
      ]
     },
     "metadata": {
      "needs_background": "light"
     },
     "output_type": "display_data"
    }
   ],
   "source": [
    "plt.plot(lh, lf)\n",
    "plt.title('kNN natively')\n",
    "plt.xlabel('Number of neighbors')\n",
    "plt.ylabel('F1-score')\n",
    "plt.show()"
   ]
  },
  {
   "cell_type": "markdown",
   "metadata": {},
   "source": [
    "#### Onehot"
   ]
  },
  {
   "cell_type": "code",
   "execution_count": 58,
   "metadata": {},
   "outputs": [
    {
     "name": "stderr",
     "output_type": "stream",
     "text": [
      "100%|██████████| 60/60 [28:37<00:00, 28.63s/it]\n"
     ]
    }
   ],
   "source": [
    "one_good_params, one_max_f = find_good_params(N, M, test_data, classes, True)"
   ]
  },
  {
   "cell_type": "code",
   "execution_count": 59,
   "metadata": {},
   "outputs": [
    {
     "name": "stderr",
     "output_type": "stream",
     "text": [
      "100%|██████████| 149/149 [19:36<00:00,  7.90s/it]\n"
     ]
    }
   ],
   "source": [
    "one_good_params, one_max_f, one_lh, one_lf = find_max_score(one_good_params, N, M, test_data, classes, True)"
   ]
  },
  {
   "cell_type": "code",
   "execution_count": 64,
   "metadata": {},
   "outputs": [
    {
     "data": {
      "image/png": "[encoded data removed]",
      "text/plain": [
       "<Figure size 432x288 with 1 Axes>"
      ]
     },
     "metadata": {
      "needs_background": "light"
     },
     "output_type": "display_data"
    }
   ],
   "source": [
    "plt.plot(one_lh, one_lf)\n",
    "plt.title('kNN with OneHot')\n",
    "plt.xlabel('Number of neighbors')\n",
    "plt.ylabel('F1-score', fontsize=16)\n",
    "plt.show()"
   ]
  }
 ],
 "metadata": {
  "kernelspec": {
   "display_name": "Python 3",
   "language": "python",
   "name": "python3"
  },
  "language_info": {
   "codemirror_mode": {
    "name": "ipython",
    "version": 3
   },
   "file_extension": ".py",
   "mimetype": "text/x-python",
   "name": "python",
   "nbconvert_exporter": "python",
   "pygments_lexer": "ipython3",
   "version": "3.8.3"
  }
 },
 "nbformat": 4,
 "nbformat_minor": 4
}
