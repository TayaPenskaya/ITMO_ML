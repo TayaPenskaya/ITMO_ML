{
 "cells": [
  {
   "cell_type": "code",
   "execution_count": 4,
   "metadata": {},
   "outputs": [
    {
     "name": "stdout",
     "output_type": "stream",
     "text": [
      "10 4 3\n",
      "1 2 3 4 1 2 3 1 2 1\n"
     ]
    }
   ],
   "source": [
    "[N, M, K] = list(map(int, input().split()));\n",
    "c = list(map(int, input().split()));"
   ]
  },
  {
   "cell_type": "code",
   "execution_count": 5,
   "metadata": {},
   "outputs": [],
   "source": [
    "def cross_validation(N, K, c):\n",
    "    \"\"\"\n",
    "    Get partition of given list into K parts with balanced distribution: \n",
    "    ∀𝑥,𝑦,𝑐:|𝑐𝑛𝑡(𝑥,𝑐)−𝑐𝑛𝑡(𝑦,𝑐)|≤1 и ∀𝑥,𝑦:∣∣∑𝑐𝑐𝑛𝑡(𝑥,𝑐)−∑𝑐𝑐𝑛𝑡(𝑦,𝑐)∣∣≤1.\n",
    "    \n",
    "    Args:\n",
    "        N: Number of objects.\n",
    "        K: Number of parts.\n",
    "        c: List of objects.\n",
    "    Returns:\n",
    "        List of lists of parts.\n",
    "    \"\"\"\n",
    "    c_sorted = sorted(range(len(c)), key=lambda k: c[k])\n",
    "    parts = [[] for k in range(K)]\n",
    "    for i in range(N):\n",
    "        parts[i%K].append(c_sorted[i]+1)\n",
    "    return parts"
   ]
  },
  {
   "cell_type": "code",
   "execution_count": 6,
   "metadata": {},
   "outputs": [
    {
     "name": "stdout",
     "output_type": "stream",
     "text": [
      "4 1 4 9 10 \n",
      "3 2 3 5 \n",
      "3 6 7 8 \n"
     ]
    }
   ],
   "source": [
    "parts = cross_validation(N, K, c)\n",
    "for p in parts:\n",
    "    print(len(p), end=' ')\n",
    "    p.sort()\n",
    "    for i in p:\n",
    "        print(i, end=' ')\n",
    "    print()"
   ]
  }
 ],
 "metadata": {
  "kernelspec": {
   "display_name": "Python 3",
   "language": "python",
   "name": "python3"
  },
  "language_info": {
   "codemirror_mode": {
    "name": "ipython",
    "version": 3
   },
   "file_extension": ".py",
   "mimetype": "text/x-python",
   "name": "python",
   "nbconvert_exporter": "python",
   "pygments_lexer": "ipython3",
   "version": "3.8.3"
  }
 },
 "nbformat": 4,
 "nbformat_minor": 2
}
