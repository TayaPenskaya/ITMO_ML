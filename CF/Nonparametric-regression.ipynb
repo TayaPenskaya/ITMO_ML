{
 "cells": [
  {
   "cell_type": "code",
   "execution_count": 1,
   "metadata": {},
   "outputs": [],
   "source": [
    "from math import pi,e,cos"
   ]
  },
  {
   "cell_type": "markdown",
   "metadata": {},
   "source": [
    "## Distance functions"
   ]
  },
  {
   "cell_type": "code",
   "execution_count": 2,
   "metadata": {},
   "outputs": [],
   "source": [
    "def euclidean(M, x, y):\n",
    "    \"\"\"\n",
    "    Computes euclidean distance between two elements using their features.\n",
    "    \n",
    "    Args:\n",
    "        M: Number of features.\n",
    "        x: Feature vector of first element.\n",
    "        y: Feature vector of second element.\n",
    "    Returns:\n",
    "        Euclidean distance.\n",
    "    \"\"\"\n",
    "    dist = 0\n",
    "    for i in range(M):\n",
    "        dist += (x[i] - y[i]) ** 2\n",
    "    return dist ** (1/2)"
   ]
  },
  {
   "cell_type": "code",
   "execution_count": 3,
   "metadata": {},
   "outputs": [],
   "source": [
    "def manhattan(M, x, y):\n",
    "    \"\"\"\n",
    "    Computes manhattan distance between two elements using their features.\n",
    "    \n",
    "    Args:\n",
    "        M: Number of features.\n",
    "        x: Feature vector of first element.\n",
    "        y: Feature vector of second element.\n",
    "    Returns:\n",
    "        Manhattan distance.\n",
    "    \"\"\"\n",
    "    dist = 0\n",
    "    for i in range(M):\n",
    "        dist += abs(x[i] - y[i])\n",
    "    return dist"
   ]
  },
  {
   "cell_type": "code",
   "execution_count": 4,
   "metadata": {},
   "outputs": [],
   "source": [
    "def chebyshev(M, x, y):\n",
    "    \"\"\"\n",
    "    Computes chebyshev distance between two elements using their features.\n",
    "    \n",
    "    Args:\n",
    "        M: Number of features.\n",
    "        x: Feature vector of first element.\n",
    "        y: Feature vector of second element.\n",
    "    Returns:\n",
    "        Chebyshev distance.\n",
    "    \"\"\"\n",
    "    max_dist = 0\n",
    "    for i in range(M):\n",
    "        cur_dist = abs(x[i] - y[i])\n",
    "        if (max_dist < cur_dist):\n",
    "            max_dist = cur_dist\n",
    "    return max_dist"
   ]
  },
  {
   "cell_type": "markdown",
   "metadata": {},
   "source": [
    " ## Kernel functions"
   ]
  },
  {
   "cell_type": "code",
   "execution_count": 5,
   "metadata": {},
   "outputs": [],
   "source": [
    "def uniform(u):\n",
    "    if (abs(u) >= 1):\n",
    "        return 0\n",
    "    return 1/2"
   ]
  },
  {
   "cell_type": "code",
   "execution_count": 6,
   "metadata": {},
   "outputs": [],
   "source": [
    "def triangular(u):\n",
    "    if (abs(u) >= 1):\n",
    "        return 0\n",
    "    return 1 - abs(u)"
   ]
  },
  {
   "cell_type": "code",
   "execution_count": 7,
   "metadata": {},
   "outputs": [],
   "source": [
    "def epanechnikov(u):\n",
    "    if (abs(u) >= 1):\n",
    "        return 0\n",
    "    return 3/4 * (1 - u**2)"
   ]
  },
  {
   "cell_type": "code",
   "execution_count": 8,
   "metadata": {},
   "outputs": [],
   "source": [
    "def quartic(u):\n",
    "    if (abs(u) >= 1):\n",
    "        return 0\n",
    "    return 15/16 * (1 - u**2)**2"
   ]
  },
  {
   "cell_type": "code",
   "execution_count": 9,
   "metadata": {},
   "outputs": [],
   "source": [
    "def triweight(u):\n",
    "    if (abs(u) >= 1):\n",
    "        return 0\n",
    "    return 35/32 * (1 - u**2)**3"
   ]
  },
  {
   "cell_type": "code",
   "execution_count": 10,
   "metadata": {},
   "outputs": [],
   "source": [
    "def tricube(u):\n",
    "    if (abs(u) >= 1):\n",
    "        return 0\n",
    "    return 70/81 * (1 - abs(u)**3)**3"
   ]
  },
  {
   "cell_type": "code",
   "execution_count": 11,
   "metadata": {},
   "outputs": [],
   "source": [
    "def gaussian(u):\n",
    "    return 1/pi**(1/2) * e**(-1/2 * u**2)"
   ]
  },
  {
   "cell_type": "code",
   "execution_count": 12,
   "metadata": {},
   "outputs": [],
   "source": [
    "def cosine(u):\n",
    "    if (abs(u) >= 1):\n",
    "        return 0\n",
    "    return pi/4 * cos(pi/2 * u)"
   ]
  },
  {
   "cell_type": "code",
   "execution_count": 13,
   "metadata": {},
   "outputs": [],
   "source": [
    "def logistic(u):\n",
    "    return 1/(e**u + 2 + e**(-u))"
   ]
  },
  {
   "cell_type": "code",
   "execution_count": 14,
   "metadata": {},
   "outputs": [],
   "source": [
    "def sigmoid(u):\n",
    "    return 2/pi * 1/(e**u + e**(-u))"
   ]
  },
  {
   "cell_type": "markdown",
   "metadata": {},
   "source": [
    "## Parzen window"
   ]
  },
  {
   "cell_type": "code",
   "execution_count": 18,
   "metadata": {},
   "outputs": [],
   "source": [
    "def get_target_of_object(N, M, d, q, distance, kernel, h):\n",
    "    \"\"\"\n",
    "    Computes target value of desired object (q).\n",
    "    \n",
    "    Args:\n",
    "        N: Number of known objects.\n",
    "        M: Number of features of object.\n",
    "        d: Sorted by distance to q list of objects.\n",
    "        q: Desired object.\n",
    "        distance: Distance function.\n",
    "        kernel: Kernel function.\n",
    "        h: Radius of window or distance from q to k neighbor.\n",
    "    Returns:\n",
    "        Target value of desired object.\n",
    "    \"\"\"\n",
    "    target_q = 0\n",
    "    all_target = []\n",
    "    all_weight = []\n",
    "\n",
    "    if (h == 0):\n",
    "        if (distance(M, d[0], q) == 0):\n",
    "            d_equal = list(filter(lambda x: distance(M, x, q) == 0, d))\n",
    "            target_q = sum(d_equal[i][M] for i in range(len(d_equal))) / len(d_equal)\n",
    "        else:\n",
    "            target_q = sum(d[i][M] for i in range(N)) / N\n",
    "    else:\n",
    "        all_weight = list(map(lambda x: kernel(distance(M, x, q) / h), d))\n",
    "        all_target = list(map(lambda x: kernel(distance(M, x, q) / h) * x[M], d))\n",
    "        target_q = sum(all_target) / sum(all_weight) if (sum(all_weight) != 0) else sum(d[i][M] for i in range(N)) / N\n",
    "    return target_q "
   ]
  },
  {
   "cell_type": "markdown",
   "metadata": {},
   "source": [
    "## Solution"
   ]
  },
  {
   "cell_type": "code",
   "execution_count": 16,
   "metadata": {},
   "outputs": [
    {
     "name": "stdout",
     "output_type": "stream",
     "text": [
      "3 2\n",
      "1 2 3\n",
      "1 2 3\n",
      "1 2 3\n",
      "1 2\n",
      "euclidean\n",
      "uniform\n",
      "fixed\n",
      "2\n"
     ]
    }
   ],
   "source": [
    "[N, M] = list(map(int, input().split()))\n",
    "\n",
    "d = [[0 for i in range(M+1)] for j in range(N)]\n",
    "for i in range(N):\n",
    "    aux_list = list(map(float, input().split()))\n",
    "    for j in range(M+1):\n",
    "        d[i][j] = aux_list[j]\n",
    "        \n",
    "# reading only features of q\n",
    "q = list(map(float, input().split()))\n",
    "\n",
    "distance = locals()[input()]\n",
    "kernel = locals()[input()]\n",
    "window_type = input()\n",
    "window_param = int(input())"
   ]
  },
  {
   "cell_type": "code",
   "execution_count": 19,
   "metadata": {},
   "outputs": [
    {
     "name": "stdout",
     "output_type": "stream",
     "text": [
      "3.0\n"
     ]
    }
   ],
   "source": [
    "h = 0\n",
    "d.sort(key=lambda x: distance(M, x, q))\n",
    "\n",
    "if (window_type == 'fixed'):\n",
    "    h = window_param\n",
    "else:\n",
    "    h = distance(M, d[window_param-1], q)\n",
    "\n",
    "print(get_target_of_object(N, M, d, q, distance, kernel, h))"
   ]
  }
 ],
 "metadata": {
  "kernelspec": {
   "display_name": "Python 3",
   "language": "python",
   "name": "python3"
  },
  "language_info": {
   "codemirror_mode": {
    "name": "ipython",
    "version": 3
   },
   "file_extension": ".py",
   "mimetype": "text/x-python",
   "name": "python",
   "nbconvert_exporter": "python",
   "pygments_lexer": "ipython3",
   "version": "3.8.3"
  }
 },
 "nbformat": 4,
 "nbformat_minor": 4
}
