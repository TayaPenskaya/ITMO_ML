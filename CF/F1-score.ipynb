{
 "cells": [
  {
   "cell_type": "code",
   "execution_count": 1,
   "metadata": {},
   "outputs": [
    {
     "name": "stdout",
     "output_type": "stream",
     "text": [
      "1\n",
      "1\n"
     ]
    }
   ],
   "source": [
    "N = int(input())\n",
    "CM = [[0 for i in range(N)] for j in range(N)]\n",
    "for i in range(N):\n",
    "    aux_list = list(map(int, input().split()));\n",
    "    for j in range(N):\n",
    "        CM[i][j] = aux_list[j]"
   ]
  },
  {
   "cell_type": "code",
   "execution_count": 2,
   "metadata": {},
   "outputs": [],
   "source": [
    "def find_f1(precision, recall):\n",
    "    \"\"\"\n",
    "    Computes F1-score of given precision and recall.\n",
    "    \"\"\"\n",
    "    if (precision == 0 and recall == 0):\n",
    "        return 0\n",
    "    return 2 * precision * recall / (precision + recall)"
   ]
  },
  {
   "cell_type": "code",
   "execution_count": 3,
   "metadata": {},
   "outputs": [],
   "source": [
    "def find_weight_sum(N, CM, nonweight_list, all_elem):\n",
    "    \"\"\"\n",
    "    Computes weight sum of nonweight_list multiplying each element \n",
    "    by the ratio of the number of class elements to the number of elements of all classes.\n",
    "    \"\"\"\n",
    "    weight_sum = 0\n",
    "    for c in range(N):\n",
    "        all_class = 0\n",
    "        for i in range(N):\n",
    "            all_class += CM[c][i]\n",
    "        weight_sum += nonweight_list[c] * all_class / all_elem\n",
    "    return weight_sum"
   ]
  },
  {
   "cell_type": "code",
   "execution_count": 4,
   "metadata": {},
   "outputs": [],
   "source": [
    "def get_macro_micro(N, CM):\n",
    "    \"\"\"\n",
    "    Computes macro F1-score and micro F1-score of given confusion matrix.\n",
    "    \n",
    "    A bit of theory:\n",
    "    \n",
    "    1. Each row of the confusion matrix represents the instances in a predicted class \n",
    "    while each column represents the instances in an actual class.\n",
    "    2. precision = TP / (TP + FP); recall = TP / (TP + FN)\n",
    "    Within the matrix (TP + FP) is real values (column) and (TP + FN) is predicted values (row).\n",
    "    3. micro f1-score is sum of all weight f1-scores\n",
    "    4. macro f1-score is f1-score of sum of all weight precisions and sum of all weight recalls\n",
    "    \n",
    "    Args:\n",
    "        N: Number of classes.\n",
    "        CM: Comfusion matrix.\n",
    "    Returns:\n",
    "        Macro F1-score and micro F1-score.\n",
    "\"\"\"\n",
    "    precision = []\n",
    "    recall = []\n",
    "    f1 = []\n",
    "    all_elem = 0\n",
    "    for c in range(N):\n",
    "        sum_real = sum_predicted = 0\n",
    "        for i in range(N):\n",
    "            sum_real += CM[c][i]\n",
    "            sum_predicted += CM[i][c]\n",
    "        all_elem += sum_real\n",
    "        precision.append(0 if (sum_predicted == 0) else CM[c][c] / sum_predicted)\n",
    "        recall.append(0 if (sum_real == 0) else CM[c][c] / sum_real)\n",
    "        f1.append(find_f1(precision[c], recall[c]))\n",
    "\n",
    "    weight_precision = find_weight_sum(N, CM, precision, all_elem)\n",
    "    weight_recall = find_weight_sum(N, CM, recall, all_elem)\n",
    "    weight_f1 = find_weight_sum(N, CM, f1, all_elem)\n",
    "\n",
    "    micro_f = weight_f1\n",
    "    macro_f = find_f1(weight_precision, weight_recall)\n",
    "    return macro_f, micro_f"
   ]
  },
  {
   "cell_type": "code",
   "execution_count": 5,
   "metadata": {},
   "outputs": [
    {
     "name": "stdout",
     "output_type": "stream",
     "text": [
      "1.000000000\n",
      "1.000000000\n"
     ]
    }
   ],
   "source": [
    "macro_f, micro_f = get_macro_micro(N,CM)\n",
    "print(\"%.9f\" % macro_f)\n",
    "print(\"%.9f\" % micro_f)"
   ]
  }
 ],
 "metadata": {
  "kernelspec": {
   "display_name": "Python 3",
   "language": "python",
   "name": "python3"
  },
  "language_info": {
   "codemirror_mode": {
    "name": "ipython",
    "version": 3
   },
   "file_extension": ".py",
   "mimetype": "text/x-python",
   "name": "python",
   "nbconvert_exporter": "python",
   "pygments_lexer": "ipython3",
   "version": "3.8.3"
  }
 },
 "nbformat": 4,
 "nbformat_minor": 4
}
